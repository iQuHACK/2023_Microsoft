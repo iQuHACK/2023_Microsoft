{
 "cells": [
  {
   "cell_type": "markdown",
   "metadata": {
    "nteract": {
     "transient": {
      "deleting": false
     }
    },
    "tags": []
   },
   "source": [
    "# MIT iQuHack Microsoft Challenge: Optimizing Quantum Oracles, Task 1\n",
    "\n",
    "To work on this task,\n",
    "1. Use the notebook for this task. Each of the notebooks in the repository has the code of the corresponding task.\n",
    "2. Update your team name and Slack ID variables in the next code cell (you can use different Slack IDs for different tasks if different team members work on them, but make sure to use the same team name throughout the Hackathon). Do not change the task variable!\n",
    "3. Work on your task in the cell that contains operation `Task1`! Your goal is to rewrite the code so that it maintains its correctness, but requires as few resources as possible. See `evaluate_results` function for details on how your absolute score for the task is calculated.\n",
    "4. Submit your task using qBraid. Use the Share Notebook feature on qBraid (See File > Share Notebook) and enter the email rickyyoung@qbraid.com.   Once you click submit, if the share notebook feature works correctly, it should show that you receive no errors and the email you entered will disappear. "
   ]
  },
  {
   "cell_type": "markdown",
   "metadata": {
    "nteract": {
     "transient": {
      "deleting": false
     }
    }
   },
   "source": [
    "Log in to Azure (once per session, don't need to do it if running from Azure workspace)"
   ]
  },
  {
   "cell_type": "code",
   "execution_count": 1,
   "metadata": {
    "collapsed": false,
    "jupyter": {
     "outputs_hidden": false,
     "source_hidden": false
    },
    "nteract": {
     "transient": {
      "deleting": false
     }
    }
   },
   "outputs": [
    {
     "name": "stdout",
     "output_type": "stream",
     "text": [
      "\u001b[93mTo sign in, use a web browser to open the page https://microsoft.com/devicelogin and enter the code EDD2VN4VN to authenticate.\u001b[0m\n",
      "[\n",
      "  {\n",
      "    \"cloudName\": \"AzureCloud\",\n",
      "    \"homeTenantId\": \"4ae6e053-7da2-46d9-ba93-b14cc036ea20\",\n",
      "    \"id\": \"099b979c-3757-4228-97d4-e8fd6549593b\",\n",
      "    \"isDefault\": true,\n",
      "    \"managedByTenants\": [\n",
      "      {\n",
      "        \"tenantId\": \"94c4857e-1130-4ab8-8eac-069b40c9db20\"\n",
      "      },\n",
      "      {\n",
      "        \"tenantId\": \"f702a9dc-ae48-4dc7-8f0a-8155a6dfa4e5\"\n",
      "      }\n",
      "    ],\n",
      "    \"name\": \"Azure subscription 1\",\n",
      "    \"state\": \"Enabled\",\n",
      "    \"tenantId\": \"4ae6e053-7da2-46d9-ba93-b14cc036ea20\",\n",
      "    \"user\": {\n",
      "      \"name\": \"dhiratht37@gmail.com\",\n",
      "      \"type\": \"user\"\n",
      "    }\n",
      "  }\n",
      "]\n"
     ]
    }
   ],
   "source": [
    "!az login"
   ]
  },
  {
   "cell_type": "markdown",
   "metadata": {
    "nteract": {
     "transient": {
      "deleting": false
     }
    }
   },
   "source": [
    "## Step 1. Write the code"
   ]
  },
  {
   "cell_type": "code",
   "execution_count": 5,
   "metadata": {
    "collapsed": false,
    "jupyter": {
     "outputs_hidden": false,
     "source_hidden": false
    },
    "nteract": {
     "transient": {
      "deleting": false
     }
    }
   },
   "outputs": [
    {
     "ename": "AttributeError",
     "evalue": "partially initialized module 'qsharp' has no attribute 'noise_model' (most likely due to a circular import)",
     "output_type": "error",
     "traceback": [
      "\u001b[0;31m---------------------------------------------------------------------------\u001b[0m",
      "\u001b[0;31mAttributeError\u001b[0m                            Traceback (most recent call last)",
      "Cell \u001b[0;32mIn[5], line 2\u001b[0m\n\u001b[1;32m      1\u001b[0m \u001b[38;5;66;03m# Run this code cell to import the modules required to work with Q# and Azure\u001b[39;00m\n\u001b[0;32m----> 2\u001b[0m \u001b[38;5;28;01mimport\u001b[39;00m \u001b[38;5;21;01mqsharp\u001b[39;00m\n\u001b[1;32m      3\u001b[0m \u001b[38;5;28;01mfrom\u001b[39;00m \u001b[38;5;21;01mqsharp\u001b[39;00m \u001b[38;5;28;01mimport\u001b[39;00m azure\n",
      "File \u001b[0;32m/opt/conda/lib/python3.9/site-packages/qsharp/__init__.py:50\u001b[0m\n\u001b[1;32m     48\u001b[0m \u001b[38;5;28;01mfrom\u001b[39;00m \u001b[38;5;21;01mqsharp\u001b[39;00m\u001b[38;5;21;01m.\u001b[39;00m\u001b[38;5;21;01mnoise_model\u001b[39;00m \u001b[38;5;28;01mimport\u001b[39;00m \u001b[38;5;241m*\u001b[39m\n\u001b[1;32m     49\u001b[0m \u001b[38;5;28;01mimport\u001b[39;00m \u001b[38;5;21;01mqsharp\u001b[39;00m\u001b[38;5;21;01m.\u001b[39;00m\u001b[38;5;21;01mnoise_model\u001b[39;00m\n\u001b[0;32m---> 50\u001b[0m __all__ \u001b[38;5;241m+\u001b[39m\u001b[38;5;241m=\u001b[39m \u001b[43mqsharp\u001b[49m\u001b[38;5;241;43m.\u001b[39;49m\u001b[43mnoise_model\u001b[49m\u001b[38;5;241m.\u001b[39m__all__\n\u001b[1;32m     52\u001b[0m \u001b[38;5;66;03m## FUNCTIONS ##\u001b[39;00m\n\u001b[1;32m     54\u001b[0m \u001b[38;5;28;01mdef\u001b[39;00m \u001b[38;5;21mcompile\u001b[39m(code : \u001b[38;5;28mstr\u001b[39m) \u001b[38;5;241m-\u001b[39m\u001b[38;5;241m>\u001b[39m Union[\u001b[38;5;28;01mNone\u001b[39;00m, QSharpCallable, List[QSharpCallable]]:\n",
      "\u001b[0;31mAttributeError\u001b[0m: partially initialized module 'qsharp' has no attribute 'noise_model' (most likely due to a circular import)"
     ]
    }
   ],
   "source": [
    "# Run this code cell to import the modules required to work with Q# and Azure\n",
    "import qsharp\n",
    "from qsharp import azure"
   ]
  },
  {
   "cell_type": "code",
   "execution_count": 6,
   "metadata": {
    "collapsed": false,
    "jupyter": {
     "outputs_hidden": false,
     "source_hidden": false
    },
    "nteract": {
     "transient": {
      "deleting": false
     }
    }
   },
   "outputs": [],
   "source": [
    "teamname=\"Queddos\"  # Update this field with your team name\n",
    "task=[\"task1\"]\n",
    "slack_id=\"U04K4NCLXFE\"         # Update this field with Slack ID of the person who worked on this task as the troubleshooting contact"
   ]
  },
  {
   "cell_type": "code",
   "execution_count": 4,
   "metadata": {
    "collapsed": false,
    "jupyter": {
     "outputs_hidden": false,
     "source_hidden": false
    },
    "nteract": {
     "transient": {
      "deleting": false
     }
    }
   },
   "outputs": [
    {
     "ename": "NameError",
     "evalue": "name 'qsharp' is not defined",
     "output_type": "error",
     "traceback": [
      "\u001b[0;31m---------------------------------------------------------------------------\u001b[0m",
      "\u001b[0;31mNameError\u001b[0m                                 Traceback (most recent call last)",
      "Cell \u001b[0;32mIn[4], line 2\u001b[0m\n\u001b[1;32m      1\u001b[0m \u001b[38;5;66;03m# You don't need to run this cell, it defines Q# operations as Python types to keep IntelliSense happy\u001b[39;00m\n\u001b[0;32m----> 2\u001b[0m Task1_DumpMachineWrapper : \u001b[43mqsharp\u001b[49m\u001b[38;5;241m.\u001b[39mQSharpCallable \u001b[38;5;241m=\u001b[39m \u001b[38;5;28;01mNone\u001b[39;00m\n\u001b[1;32m      3\u001b[0m Task1_ResourceEstimationWrapper : qsharp\u001b[38;5;241m.\u001b[39mQSharpCallable \u001b[38;5;241m=\u001b[39m \u001b[38;5;28;01mNone\u001b[39;00m\n",
      "\u001b[0;31mNameError\u001b[0m: name 'qsharp' is not defined"
     ]
    }
   ],
   "source": [
    "# You don't need to run this cell, it defines Q# operations as Python types to keep IntelliSense happy\n",
    "Task1_DumpMachineWrapper : qsharp.QSharpCallable = None\n",
    "Task1_ResourceEstimationWrapper : qsharp.QSharpCallable = None"
   ]
  },
  {
   "cell_type": "markdown",
   "metadata": {
    "nteract": {
     "transient": {
      "deleting": false
     }
    }
   },
   "source": [
    "**The complete code for Task 1 should be in this cell.**   \n",
    "This cell can include additional open statements and helper operations and functions if your solution needs them.  \n",
    "If you define helper operations in other cells, they will not be picked up by the grader!"
   ]
  },
  {
   "cell_type": "code",
   "execution_count": 7,
   "metadata": {
    "collapsed": false,
    "jupyter": {
     "outputs_hidden": false,
     "source_hidden": false
    },
    "microsoft": {
     "language": "qsharp"
    },
    "nteract": {
     "transient": {
      "deleting": false
     }
    }
   },
   "outputs": [
    {
     "name": "stderr",
     "output_type": "stream",
     "text": [
      "UsageError: Cell magic `%%qsharp` not found.\n"
     ]
    }
   ],
   "source": [
    "%%qsharp\n",
    "open Microsoft.Quantum.Canon;\n",
    "open Microsoft.Quantum.Diagnostics;\n",
    "\n",
    "// Task 1. Warm up with simple bit manipulation\n",
    "// (input will contain 3 qubits)\n",
    "operation Task1(input : Qubit[], target : Qubit) : Unit is Adj {\n",
    "    within{\n",
    "        CNOT(input[1], input[0]);\n",
    "        CNOT(input[1], input[2]);\n",
    "    }apply{\n",
    "        CCNOT(input[2], input[0], target);\n",
    "    }\n",
    "\n",
    "}"
   ]
  },
  {
   "cell_type": "code",
   "execution_count": null,
   "metadata": {
    "collapsed": false,
    "jupyter": {
     "outputs_hidden": false,
     "source_hidden": false
    },
    "microsoft": {
     "language": "qsharp"
    },
    "nteract": {
     "transient": {
      "deleting": false
     }
    }
   },
   "outputs": [],
   "source": [
    "%%qsharp\n",
    "// Wrapper operation that allows you to observe the effects of the marking oracle by running it on a simulator.\n",
    "operation Task1_DumpMachineWrapper() : Unit {\n",
    "    let N = 3;\n",
    "    use (input, target) = (Qubit[N], Qubit());\n",
    "    // Prepare an equal superposition of all input states in the input register.\n",
    "    ApplyToEach(H, input);\n",
    "    // Apply the oracle.\n",
    "    Task1(input, target);\n",
    "    // Print the state of the system after the oracle application.\n",
    "    DumpMachine();\n",
    "    ResetAll(input + [target]);\n",
    "}\n",
    "\n",
    "// Wrapper operation that allows to run resource estimation for the task.\n",
    "// This operation only allocates the qubits and applies the oracle once, not using any additional gates or measurements.\n",
    "operation Task1_ResourceEstimationWrapper() : Unit {\n",
    "    let N = 3;\n",
    "    use (input, target) = (Qubit[N], Qubit());\n",
    "    Task1(input, target);\n",
    "}"
   ]
  },
  {
   "cell_type": "markdown",
   "metadata": {
    "nteract": {
     "transient": {
      "deleting": false
     }
    }
   },
   "source": [
    "## Step 2. Run the code on a simulator to see what it does\n",
    "You can also write your own code to explore the effects of the oracle (for example, applying it to different basis states and measuring the results)."
   ]
  },
  {
   "cell_type": "code",
   "execution_count": null,
   "metadata": {
    "collapsed": false,
    "jupyter": {
     "outputs_hidden": false,
     "source_hidden": false
    },
    "nteract": {
     "transient": {
      "deleting": false
     }
    }
   },
   "outputs": [],
   "source": [
    "# Note that in the output of this cell the target qubit corresponds to the rightmost bit\n",
    "qsharp.config[\"dump.basisStateLabelingConvention\"]=\"Bitstring\"\n",
    "qsharp.config[\"dump.phaseDisplayStyle\"]=\"None\"\n",
    "# Uncomment the following line if you want to see only the entries with non-zero amplitudes\n",
    "# qsharp.config[\"dump.truncateSmallAmplitudes\"]=True\n",
    "Task1_DumpMachineWrapper.simulate()"
   ]
  },
  {
   "cell_type": "markdown",
   "metadata": {
    "nteract": {
     "transient": {
      "deleting": false
     }
    }
   },
   "source": [
    "## Step 3. Evaluate the code using resource estimation"
   ]
  },
  {
   "cell_type": "code",
   "execution_count": null,
   "metadata": {
    "collapsed": false,
    "jupyter": {
     "outputs_hidden": false,
     "source_hidden": false
    },
    "nteract": {
     "transient": {
      "deleting": false
     }
    }
   },
   "outputs": [],
   "source": [
    "# If you're using this notebook in Azure Quantum hosted notebooks, remove the credential=\"CLI\" parameter!\n",
    "# If you're using this notebook in qBraid, keep it\n",
    "qsharp.azure.connect(\n",
    "    resourceId=\"/subscriptions/099b979c-3757-4228-97d4-e8fd6549593b/resourceGroups/AzureQuantum/providers/Microsoft.Quantum/Workspaces/iQuHack-MSFT-Challenge\",\n",
    "    location=\"eastus\",\n",
    "    credential=\"CLI\")"
   ]
  },
  {
   "cell_type": "code",
   "execution_count": null,
   "metadata": {
    "collapsed": false,
    "jupyter": {
     "outputs_hidden": false,
     "source_hidden": false
    },
    "nteract": {
     "transient": {
      "deleting": false
     }
    }
   },
   "outputs": [],
   "source": [
    "qsharp.azure.target(\"microsoft.estimator\")"
   ]
  },
  {
   "cell_type": "code",
   "execution_count": null,
   "metadata": {
    "collapsed": false,
    "jupyter": {
     "outputs_hidden": false,
     "source_hidden": false
    },
    "nteract": {
     "transient": {
      "deleting": false
     }
    }
   },
   "outputs": [],
   "source": [
    "# Update job name to a more descriptive string to make it easier to find it in Job Management tab later\n",
    "result = qsharp.azure.execute(Task1_ResourceEstimationWrapper, jobName=\"RE for the task 1\")"
   ]
  },
  {
   "cell_type": "code",
   "execution_count": null,
   "metadata": {
    "collapsed": false,
    "jupyter": {
     "outputs_hidden": false,
     "source_hidden": false
    },
    "nteract": {
     "transient": {
      "deleting": false
     }
    }
   },
   "outputs": [],
   "source": [
    "# If you need to pull up the results of an old job, use its job ID with qsharp.azure.output command\n",
    "# result = qsharp.azure.output(\"...\")\n",
    "result"
   ]
  },
  {
   "cell_type": "code",
   "execution_count": null,
   "metadata": {
    "collapsed": false,
    "jupyter": {
     "outputs_hidden": false,
     "source_hidden": false
    },
    "nteract": {
     "transient": {
      "deleting": false
     }
    }
   },
   "outputs": [],
   "source": [
    "# The function that extracts the relevant resource information from the resource estimation job results and produces your absolute score.\n",
    "def evaluate_results(res) : \n",
    "    width = res['physicalCounts']['breakdown']['algorithmicLogicalQubits']\n",
    "    depth = res['physicalCounts']['breakdown']['algorithmicLogicalDepth']\n",
    "    print(f\"Logical algorithmic qubits = {width}\")\n",
    "    print(f\"Algorithmic depth = {depth}\")\n",
    "    print(f\"Score = {width * depth}\")\n",
    "    return width * depth\n"
   ]
  },
  {
   "cell_type": "code",
   "execution_count": null,
   "metadata": {
    "collapsed": false,
    "jupyter": {
     "outputs_hidden": false,
     "source_hidden": false
    },
    "nteract": {
     "transient": {
      "deleting": false
     }
    }
   },
   "outputs": [],
   "source": [
    "evaluate_results(result)"
   ]
  }
 ],
 "metadata": {
  "kernel_info": {
   "name": "python3"
  },
  "kernelspec": {
   "display_name": "Python 3 [Default]",
   "language": "python",
   "name": "python3"
  },
  "language_info": {
   "codemirror_mode": {
    "name": "ipython",
    "version": 3
   },
   "file_extension": ".py",
   "mimetype": "text/x-python",
   "name": "python",
   "nbconvert_exporter": "python",
   "pygments_lexer": "ipython3",
   "version": "3.9.10"
  },
  "nteract": {
   "version": "nteract-front-end@1.0.0"
  }
 },
 "nbformat": 4,
 "nbformat_minor": 4
}
