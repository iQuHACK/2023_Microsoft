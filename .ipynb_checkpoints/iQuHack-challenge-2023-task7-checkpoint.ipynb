{
 "cells": [
  {
   "cell_type": "markdown",
   "metadata": {
    "nteract": {
     "transient": {
      "deleting": false
     }
    }
   },
   "source": [
    "# MIT iQuHack Microsoft Challenge: Optimizing Quantum Oracles, Task 7\n",
    "\n",
    "To work on this task,\n",
    "1. Use the notebook for this task. Each of the notebooks in the repository has the code of the corresponding task.\n",
    "2. Update your team name and Slack ID variables in the next code cell (you can use different Slack IDs for different tasks if different team members work on them, but make sure to use the same team name throughout the Hackathon). Do not change the task variable!\n",
    "3. Work on your task in the cell that contains operation `Task7`! Your goal is to rewrite the code so that it maintains its correctness, but requires as few resources as possible. See `evaluate_results` function for details on how your absolute score for the task is calculated.\n",
    "4. Submit your task using qBraid. Use the Share Notebook feature on qBraid (See File > Share Notebook) and enter the email rickyyoung@qbraid.com.   Once you click submit, if the share notebook feature works correctly, it should show that you receive no errors and the email you entered will disappear. "
   ]
  },
  {
   "cell_type": "markdown",
   "metadata": {
    "nteract": {
     "transient": {
      "deleting": false
     }
    }
   },
   "source": [
    "Log in to Azure (once per session, don't need to do it if running from Azure workspace)"
   ]
  },
  {
   "cell_type": "code",
   "execution_count": 1,
   "metadata": {
    "jupyter": {
     "outputs_hidden": false,
     "source_hidden": false
    },
    "nteract": {
     "transient": {
      "deleting": false
     }
    }
   },
   "outputs": [
    {
     "name": "stdout",
     "output_type": "stream",
     "text": [
      "\u001b[93mA web browser has been opened at https://login.microsoftonline.com/organizations/oauth2/v2.0/authorize. Please continue the login in the web browser. If no web browser is available or if the web browser fails to open, use device code flow with `az login --use-device-code`.\u001b[0m\n",
      "[\n",
      "  {\n",
      "    \"cloudName\": \"AzureCloud\",\n",
      "    \"homeTenantId\": \"49392c96-234d-43a9-b584-af46c435278a\",\n",
      "    \"id\": \"edd613b3-8845-4654-ab8a-43c1712ec7ce\",\n",
      "    \"isDefault\": true,\n",
      "    \"managedByTenants\": [\n",
      "      {\n",
      "        \"tenantId\": \"d0ecd01b-d782-448e-bae0-c3cad0e0543a\"\n",
      "      },\n",
      "      {\n",
      "        \"tenantId\": \"94c4857e-1130-4ab8-8eac-069b40c9db20\"\n",
      "      },\n",
      "      {\n",
      "        \"tenantId\": \"f702a9dc-ae48-4dc7-8f0a-8155a6dfa4e5\"\n",
      "      }\n",
      "    ],\n",
      "    \"name\": \"Azure subscription 1\",\n",
      "    \"state\": \"Enabled\",\n",
      "    \"tenantId\": \"49392c96-234d-43a9-b584-af46c435278a\",\n",
      "    \"user\": {\n",
      "      \"name\": \"raunak.singh.inventor@gmail.com\",\n",
      "      \"type\": \"user\"\n",
      "    }\n",
      "  }\n",
      "]\n"
     ]
    }
   ],
   "source": [
    "!az login"
   ]
  },
  {
   "cell_type": "markdown",
   "metadata": {
    "nteract": {
     "transient": {
      "deleting": false
     }
    }
   },
   "source": [
    "## Step 1. Write the code"
   ]
  },
  {
   "cell_type": "code",
   "execution_count": 2,
   "metadata": {
    "jupyter": {
     "outputs_hidden": false,
     "source_hidden": false
    },
    "nteract": {
     "transient": {
      "deleting": false
     }
    }
   },
   "outputs": [
    {
     "name": "stdout",
     "output_type": "stream",
     "text": [
      "Preparing Q# environment...\n",
      "."
     ]
    }
   ],
   "source": [
    "# Run this code cell to import the modules required to work with Q# and Azure\n",
    "import qsharp\n",
    "from qsharp import azure"
   ]
  },
  {
   "cell_type": "code",
   "execution_count": 3,
   "metadata": {
    "jupyter": {
     "outputs_hidden": false,
     "source_hidden": false
    },
    "nteract": {
     "transient": {
      "deleting": false
     }
    }
   },
   "outputs": [],
   "source": [
    "teamname=\"msft_is_the_best\"  # Update this field with your team name\n",
    "task=[\"task7\"]\n",
    "slack_id=\"myslackid\"         # Update this field with Slack ID of the person who worked on this task as the troubleshooting contact"
   ]
  },
  {
   "cell_type": "code",
   "execution_count": 4,
   "metadata": {
    "jupyter": {
     "outputs_hidden": false,
     "source_hidden": false
    },
    "nteract": {
     "transient": {
      "deleting": false
     }
    }
   },
   "outputs": [],
   "source": [
    "# You don't need to run this cell, it defines Q# operations as Python types to keep IntelliSense happy\n",
    "Task7_DumpMachineWrapper : qsharp.QSharpCallable = None\n",
    "Task7_ResourceEstimationWrapper : qsharp.QSharpCallable = None"
   ]
  },
  {
   "cell_type": "markdown",
   "metadata": {
    "nteract": {
     "transient": {
      "deleting": false
     }
    }
   },
   "source": [
    "**The complete code for Task 7 should be in this cell.**   \n",
    "This cell can include additional open statements and helper operations and functions if your solution needs them.  \n",
    "If you define helper operations in other cells, they will not be picked up by the grader!"
   ]
  },
  {
   "cell_type": "code",
   "execution_count": null,
   "metadata": {
    "jupyter": {
     "outputs_hidden": false,
     "source_hidden": false
    },
    "microsoft": {
     "language": "qsharp"
    },
    "nteract": {
     "transient": {
      "deleting": false
     }
    }
   },
   "outputs": [],
   "source": [
    "%%qsharp\n",
    "open Microsoft.Quantum.Canon;\n",
    "open Microsoft.Quantum.Diagnostics;\n",
    "\n",
    "// Task 7. \n",
    "// (input will contain 7 qubits)\n",
    "operation Task7(input : Qubit[], target : Qubit) : Unit is Adj {\n",
    "    for i in [9,18,19,25,36,37,38,39,41,50,51,57,72,73,74,75,76,77,78,79,82,83,89,100,101,102,103,105,114,115,121] {\n",
    "        ControlledOnInt(i, X)(input, target);\n",
    "    }\n",
    "}"
   ]
  },
  {
   "cell_type": "code",
   "execution_count": null,
   "metadata": {
    "jupyter": {
     "outputs_hidden": false,
     "source_hidden": false
    },
    "microsoft": {
     "language": "qsharp"
    },
    "nteract": {
     "transient": {
      "deleting": false
     }
    }
   },
   "outputs": [],
   "source": [
    "%%qsharp\n",
    "// Wrapper operation that allows you to observe the effects of the marking oracle by running it on a simulator.\n",
    "operation Task7_DumpMachineWrapper() : Unit {\n",
    "    let N = 7;\n",
    "    use (input, target) = (Qubit[N], Qubit());\n",
    "    // Prepare an equal superposition of all input states in the input register.\n",
    "    ApplyToEach(H, input);\n",
    "    // Apply the oracle.\n",
    "    Task7(input, target);\n",
    "    // Print the state of the system after the oracle application.\n",
    "    DumpMachine();\n",
    "    ResetAll(input + [target]);\n",
    "}\n",
    "\n",
    "// Wrapper operation that allows to run resource estimation for the task.\n",
    "// This operation only allocates the qubits and applies the oracle once, not using any additional gates or measurements.\n",
    "operation Task7_ResourceEstimationWrapper() : Unit {\n",
    "    let N = 7;\n",
    "    use (input, target) = (Qubit[N], Qubit());\n",
    "    Task7(input, target);\n",
    "}"
   ]
  },
  {
   "cell_type": "markdown",
   "metadata": {
    "nteract": {
     "transient": {
      "deleting": false
     }
    }
   },
   "source": [
    "## Step 2. Run the code on a simulator to see what it does\n",
    "You can also write your own code to explore the effects of the oracle (for example, applying it to different basis states and measuring the results)."
   ]
  },
  {
   "cell_type": "code",
   "execution_count": null,
   "metadata": {
    "jupyter": {
     "outputs_hidden": false,
     "source_hidden": false
    },
    "nteract": {
     "transient": {
      "deleting": false
     }
    }
   },
   "outputs": [],
   "source": [
    "# Note that in the output of this cell the target qubit corresponds to the rightmost bit\n",
    "qsharp.config[\"dump.basisStateLabelingConvention\"]=\"Bitstring\"\n",
    "qsharp.config[\"dump.phaseDisplayStyle\"]=\"None\"\n",
    "# Uncomment the following line if you want to see only the entries with non-zero amplitudes\n",
    "qsharp.config[\"dump.truncateSmallAmplitudes\"]=True\n",
    "Task7_DumpMachineWrapper.simulate()"
   ]
  },
  {
   "cell_type": "markdown",
   "metadata": {
    "nteract": {
     "transient": {
      "deleting": false
     }
    }
   },
   "source": [
    "## Step 3. Evaluate the code using resource estimation"
   ]
  },
  {
   "cell_type": "code",
   "execution_count": null,
   "metadata": {
    "jupyter": {
     "outputs_hidden": false,
     "source_hidden": false
    },
    "nteract": {
     "transient": {
      "deleting": false
     }
    }
   },
   "outputs": [],
   "source": [
    "# If you're using this notebook in Azure Quantum hosted notebooks, remove the credential=\"CLI\" parameter!\n",
    "# If you're using this notebook in qBraid, keep it\n",
    "qsharp.azure.connect(\n",
    "    resourceId=\"...\",\n",
    "    location=\"...\",\n",
    "    credential=\"CLI\")"
   ]
  },
  {
   "cell_type": "code",
   "execution_count": null,
   "metadata": {
    "jupyter": {
     "outputs_hidden": false,
     "source_hidden": false
    },
    "nteract": {
     "transient": {
      "deleting": false
     }
    }
   },
   "outputs": [],
   "source": [
    "qsharp.azure.target(\"microsoft.estimator\")"
   ]
  },
  {
   "cell_type": "code",
   "execution_count": null,
   "metadata": {
    "jupyter": {
     "outputs_hidden": false,
     "source_hidden": false
    },
    "nteract": {
     "transient": {
      "deleting": false
     }
    }
   },
   "outputs": [],
   "source": [
    "# Update job name to a more descriptive string to make it easier to find it in Job Management tab later\n",
    "result = qsharp.azure.execute(Task7_ResourceEstimationWrapper, jobName=\"RE for the task 7\")"
   ]
  },
  {
   "cell_type": "code",
   "execution_count": null,
   "metadata": {
    "jupyter": {
     "outputs_hidden": false,
     "source_hidden": false
    },
    "nteract": {
     "transient": {
      "deleting": false
     }
    }
   },
   "outputs": [],
   "source": [
    "# If you need to pull up the results of an old job, use its job ID with qsharp.azure.output command\n",
    "# result = qsharp.azure.output(\"...\")\n",
    "result"
   ]
  },
  {
   "cell_type": "code",
   "execution_count": null,
   "metadata": {
    "jupyter": {
     "outputs_hidden": false,
     "source_hidden": false
    },
    "nteract": {
     "transient": {
      "deleting": false
     }
    }
   },
   "outputs": [],
   "source": [
    "# The function that extracts the relevant resource information from the resource estimation job results and produces your absolute score.\n",
    "def evaluate_results(res) : \n",
    "    width = res['physicalCounts']['breakdown']['algorithmicLogicalQubits']\n",
    "    depth = res['physicalCounts']['breakdown']['algorithmicLogicalDepth']\n",
    "    print(f\"Logical algorithmic qubits = {width}\")\n",
    "    print(f\"Algorithmic depth = {depth}\")\n",
    "    print(f\"Score = {width * depth}\")\n",
    "    return width * depth\n"
   ]
  },
  {
   "cell_type": "code",
   "execution_count": null,
   "metadata": {
    "jupyter": {
     "outputs_hidden": false,
     "source_hidden": false
    },
    "nteract": {
     "transient": {
      "deleting": false
     }
    }
   },
   "outputs": [],
   "source": [
    "evaluate_results(result)"
   ]
  },
  {
   "cell_type": "code",
   "execution_count": null,
   "metadata": {},
   "outputs": [],
   "source": []
  }
 ],
 "metadata": {
  "kernel_info": {
   "name": "python3"
  },
  "kernelspec": {
   "display_name": "Python 3 (ipykernel)",
   "language": "python",
   "name": "python3"
  },
  "language_info": {
   "codemirror_mode": {
    "name": "ipython",
    "version": 3
   },
   "file_extension": ".py",
   "mimetype": "text/x-python",
   "name": "python",
   "nbconvert_exporter": "python",
   "pygments_lexer": "ipython3",
   "version": "3.8.9"
  },
  "nteract": {
   "version": "nteract-front-end@1.0.0"
  }
 },
 "nbformat": 4,
 "nbformat_minor": 4
}
