{
 "cells": [
  {
   "cell_type": "markdown",
   "metadata": {
    "nteract": {
     "transient": {
      "deleting": false
     }
    }
   },
   "source": [
    "# MIT iQuHack Microsoft Challenge: Optimizing Quantum Oracles, Task 3\n",
    "\n",
    "To work on this task,\n",
    "1. Use the notebook for this task. Each of the notebooks in the repository has the code of the corresponding task.\n",
    "2. Update your team name and Slack ID variables in the next code cell (you can use different Slack IDs for different tasks if different team members work on them, but make sure to use the same team name throughout the Hackathon). Do not change the task variable!\n",
    "3. Work on your task in the cell that contains operation `Task3`! Your goal is to rewrite the code so that it maintains its correctness, but requires as few resources as possible. See `evaluate_results` function for details on how your absolute score for the task is calculated.\n",
    "4. Submit your task using qBraid. Use the Share Notebook feature on qBraid (See File > Share Notebook) and enter the email rickyyoung@qbraid.com.   Once you click submit, if the share notebook feature works correctly, it should show that you receive no errors and the email you entered will disappear. "
   ]
  },
  {
   "cell_type": "markdown",
   "metadata": {
    "nteract": {
     "transient": {
      "deleting": false
     }
    }
   },
   "source": [
    "Log in to Azure (once per session, don't need to do it if running from Azure workspace)"
   ]
  },
  {
   "cell_type": "code",
   "execution_count": null,
   "metadata": {
    "collapsed": false,
    "jupyter": {
     "outputs_hidden": false,
     "source_hidden": false
    },
    "nteract": {
     "transient": {
      "deleting": false
     }
    }
   },
   "outputs": [],
   "source": [
    "!az login"
   ]
  },
  {
   "cell_type": "markdown",
   "metadata": {
    "nteract": {
     "transient": {
      "deleting": false
     }
    }
   },
   "source": [
    "## Step 1. Write the code"
   ]
  },
  {
   "cell_type": "code",
   "execution_count": null,
   "metadata": {
    "collapsed": false,
    "jupyter": {
     "outputs_hidden": false,
     "source_hidden": false
    },
    "nteract": {
     "transient": {
      "deleting": false
     }
    }
   },
   "outputs": [],
   "source": [
    "# Run this code cell to import the modules required to work with Q# and Azure\n",
    "import qsharp\n",
    "from qsharp import azure"
   ]
  },
  {
   "cell_type": "code",
   "execution_count": null,
   "metadata": {
    "collapsed": false,
    "jupyter": {
     "outputs_hidden": false,
     "source_hidden": false
    },
    "nteract": {
     "transient": {
      "deleting": false
     }
    }
   },
   "outputs": [],
   "source": [
    "teamname=\"Quantum Wranglers\"  # Update this field with your team name\n",
    "task=[\"task3\"]\n",
    "slack_id=\"U04JVDTAG4E\"         # Update this field with Slack ID of the person who worked on this task as the troubleshooting contact"
   ]
  },
  {
   "cell_type": "code",
   "execution_count": null,
   "metadata": {
    "collapsed": false,
    "jupyter": {
     "outputs_hidden": false,
     "source_hidden": false
    },
    "nteract": {
     "transient": {
      "deleting": false
     }
    }
   },
   "outputs": [],
   "source": [
    "# You don't need to run this cell, it defines Q# operations as Python types to keep IntelliSense happy\n",
    "Task3_DumpMachineWrapper : qsharp.QSharpCallable = None\n",
    "Task3_ResourceEstimationWrapper : qsharp.QSharpCallable = None"
   ]
  },
  {
   "cell_type": "markdown",
   "metadata": {
    "nteract": {
     "transient": {
      "deleting": false
     }
    }
   },
   "source": [
    "**The complete code for Task 3 should be in this cell.**   \n",
    "This cell can include additional open statements and helper operations and functions if your solution needs them.  \n",
    "If you define helper operations in other cells, they will not be picked up by the grader!"
   ]
  },
  {
   "cell_type": "code",
   "execution_count": null,
   "metadata": {
    "collapsed": false,
    "jupyter": {
     "outputs_hidden": false,
     "source_hidden": false
    },
    "microsoft": {
     "language": "qsharp"
    },
    "nteract": {
     "transient": {
      "deleting": false
     }
    }
   },
   "outputs": [],
   "source": [
    "%%qsharp\n",
    "open Microsoft.Quantum.Canon;\n",
    "open Microsoft.Quantum.Diagnostics;\n",
    "\n",
    "// Task 3. \n",
    "// (input will contain 6 qubits)\n",
    "operation Task3(input : Qubit[], target : Qubit) : Unit is Adj {\n",
    "    //for i in [7, 11, 13, 14, 19, 21, 22, 25, 26, 28, 35, 37, 38, 41, 42, 44, 49, 50, 52, 56] {\n",
    "    //    ControlledOnInt(i, X)(input, target);\n",
    "    //}\n",
    "    \n",
    "    // optimization 1:\n",
    "    //X(input[5]);\n",
    "    //Controlled Task3_0([input[5]], (input[...4], target));\n",
    "    //X(input[5]);\n",
    "    //Controlled Task3_1([input[5]], (input[...4], target));\n",
    "    \n",
    "    // optimization 2:\n",
    "    within {\n",
    "        X(input[5]);\n",
    "        X(input[4]);\n",
    "    }\n",
    "    apply {\n",
    "        Controlled Task3_00([input[5], input[4]], (input[...3], target)); // top bits: 00\n",
    "    }\n",
    "    Controlled Task3_11([input[5], input[4]], (input[...3], target)); // top bits: 11\n",
    "    \n",
    "    within {\n",
    "        CNOT(input[5], input[4]); // input[4] = input[5] ^ input[4]\n",
    "    }\n",
    "    apply {\n",
    "        Controlled Task3_01([input[4]], (input[...3], target)); // top bits: 01 or 10\n",
    "    }\n",
    "}\n",
    "\n",
    "operation Task3_0(input : Qubit[], target : Qubit) : Unit is Adj + Ctl {\n",
    "    //for i in [7, 11, 13, 14, 19, 21, 22, 25, 26, 28] {\n",
    "    //    ControlledOnInt(i, X)(input, target);\n",
    "    //}\n",
    "    X(input[4]);\n",
    "    Controlled Task3_00([input[4]], (input[...3], target));\n",
    "    X(input[4]);\n",
    "    Controlled Task3_01([input[4]], (input[...3], target));\n",
    "}\n",
    "\n",
    "operation Task3_00(input : Qubit[], target : Qubit) : Unit is Adj + Ctl {\n",
    "    for i in [7, 11, 13, 14] {\n",
    "        ControlledOnInt(i, X)(input, target);\n",
    "    }\n",
    "}\n",
    "\n",
    "operation Task3_01(input : Qubit[], target : Qubit) : Unit is Adj + Ctl {\n",
    "    for i in [3, 5, 6, 9, 10, 12] {\n",
    "        ControlledOnInt(i, X)(input, target);\n",
    "    }\n",
    "}\n",
    "\n",
    "operation Task3_1(input : Qubit[], target : Qubit) : Unit is Adj + Ctl {\n",
    "    //for i in [3, 5, 6, 9, 10, 12, 17, 18, 20, 24] {\n",
    "    //    ControlledOnInt(i, X)(input, target);\n",
    "    //}\n",
    "    X(input[4]);\n",
    "    Controlled Task3_01([input[4]], (input[...3], target));\n",
    "    X(input[4]);\n",
    "    Controlled Task3_11([input[4]], (input[...3], target));\n",
    "}\n",
    "\n",
    "// same as Task3_01, we can optimize by re-using the circuit\n",
    "//operation Task3_10(input : Qubit[], target : Qubit) : Unit is Adj + Ctl {\n",
    "//    for i in [3, 5, 6, 9, 10, 12] {\n",
    "//        ControlledOnInt(i, X)(input, target);\n",
    "//    }\n",
    "//}\n",
    "\n",
    "operation Task3_11(input : Qubit[], target : Qubit) : Unit is Adj + Ctl {\n",
    "    for i in [1, 2, 4, 8] {\n",
    "        ControlledOnInt(i, X)(input, target);\n",
    "    }\n",
    "}"
   ]
  },
  {
   "cell_type": "code",
   "execution_count": null,
   "metadata": {
    "collapsed": false,
    "jupyter": {
     "outputs_hidden": false,
     "source_hidden": false
    },
    "microsoft": {
     "language": "qsharp"
    },
    "nteract": {
     "transient": {
      "deleting": false
     }
    }
   },
   "outputs": [],
   "source": [
    "%%qsharp\n",
    "// Wrapper operation that allows you to observe the effects of the marking oracle by running it on a simulator.\n",
    "operation Task3_DumpMachineWrapper() : Unit {\n",
    "    let N = 6;\n",
    "    use (input, target) = (Qubit[N], Qubit());\n",
    "    // Prepare an equal superposition of all input states in the input register.\n",
    "    ApplyToEach(H, input);\n",
    "    // Apply the oracle.\n",
    "    Task3(input, target);\n",
    "    // Print the state of the system after the oracle application.\n",
    "    DumpMachine();\n",
    "    ResetAll(input + [target]);\n",
    "}\n",
    "\n",
    "// Wrapper operation that allows to run resource estimation for the task.\n",
    "// This operation only allocates the qubits and applies the oracle once, not using any additional gates or measurements.\n",
    "operation Task3_ResourceEstimationWrapper() : Unit {\n",
    "    let N = 6;\n",
    "    use (input, target) = (Qubit[N], Qubit());\n",
    "    Task3(input, target);\n",
    "}"
   ]
  },
  {
   "cell_type": "markdown",
   "metadata": {
    "nteract": {
     "transient": {
      "deleting": false
     }
    }
   },
   "source": [
    "## Step 2. Run the code on a simulator to see what it does\n",
    "You can also write your own code to explore the effects of the oracle (for example, applying it to different basis states and measuring the results)."
   ]
  },
  {
   "cell_type": "code",
   "execution_count": null,
   "metadata": {
    "collapsed": false,
    "jupyter": {
     "outputs_hidden": false,
     "source_hidden": false
    },
    "nteract": {
     "transient": {
      "deleting": false
     }
    }
   },
   "outputs": [],
   "source": [
    "# Note that in the output of this cell the target qubit corresponds to the rightmost bit\n",
    "qsharp.config[\"dump.basisStateLabelingConvention\"]=\"Bitstring\"\n",
    "qsharp.config[\"dump.phaseDisplayStyle\"]=\"None\"\n",
    "# Uncomment the following line if you want to see only the entries with non-zero amplitudes\n",
    "# qsharp.config[\"dump.truncateSmallAmplitudes\"]=True\n",
    "Task3_DumpMachineWrapper.simulate()"
   ]
  },
  {
   "cell_type": "markdown",
   "metadata": {
    "nteract": {
     "transient": {
      "deleting": false
     }
    }
   },
   "source": [
    "## Step 3. Evaluate the code using resource estimation"
   ]
  },
  {
   "cell_type": "code",
   "execution_count": null,
   "metadata": {
    "collapsed": false,
    "jupyter": {
     "outputs_hidden": false,
     "source_hidden": false
    },
    "nteract": {
     "transient": {
      "deleting": false
     }
    }
   },
   "outputs": [],
   "source": [
    "# If you're using this notebook in Azure Quantum hosted notebooks, remove the credential=\"CLI\" parameter!\n",
    "# If you're using this notebook in qBraid, keep it\n",
    "qsharp.azure.connect(\n",
    "    resourceId=\"/subscriptions/1b6547eb-50f1-4733-bd8b-4b8c52ff49bd/resourceGroups/AzureQuantum/providers/Microsoft.Quantum/Workspaces/QuantumTests\",\n",
    "    location=\"West US\",\n",
    "    credential=\"CLI\")"
   ]
  },
  {
   "cell_type": "code",
   "execution_count": null,
   "metadata": {
    "collapsed": false,
    "jupyter": {
     "outputs_hidden": false,
     "source_hidden": false
    },
    "nteract": {
     "transient": {
      "deleting": false
     }
    }
   },
   "outputs": [],
   "source": [
    "qsharp.azure.target(\"microsoft.estimator\")"
   ]
  },
  {
   "cell_type": "code",
   "execution_count": null,
   "metadata": {
    "collapsed": false,
    "jupyter": {
     "outputs_hidden": false,
     "source_hidden": false
    },
    "nteract": {
     "transient": {
      "deleting": false
     }
    }
   },
   "outputs": [],
   "source": [
    "# Update job name to a more descriptive string to make it easier to find it in Job Management tab later\n",
    "result = qsharp.azure.execute(Task3_ResourceEstimationWrapper, jobName=\"RE for the task 3\")"
   ]
  },
  {
   "cell_type": "code",
   "execution_count": null,
   "metadata": {
    "collapsed": false,
    "jupyter": {
     "outputs_hidden": false,
     "source_hidden": false
    },
    "nteract": {
     "transient": {
      "deleting": false
     }
    }
   },
   "outputs": [],
   "source": [
    "# If you need to pull up the results of an old job, use its job ID with qsharp.azure.output command\n",
    "# result = qsharp.azure.output(\"...\")\n",
    "result"
   ]
  },
  {
   "cell_type": "code",
   "execution_count": null,
   "metadata": {
    "collapsed": false,
    "jupyter": {
     "outputs_hidden": false,
     "source_hidden": false
    },
    "nteract": {
     "transient": {
      "deleting": false
     }
    }
   },
   "outputs": [],
   "source": [
    "# The function that extracts the relevant resource information from the resource estimation job results and produces your absolute score.\n",
    "def evaluate_results(res) : \n",
    "    width = res['physicalCounts']['breakdown']['algorithmicLogicalQubits']\n",
    "    depth = res['physicalCounts']['breakdown']['algorithmicLogicalDepth']\n",
    "    print(f\"Logical algorithmic qubits = {width}\")\n",
    "    print(f\"Algorithmic depth = {depth}\")\n",
    "    print(f\"Score = {width * depth}\")\n",
    "    return width * depth\n"
   ]
  },
  {
   "cell_type": "code",
   "execution_count": null,
   "metadata": {
    "collapsed": false,
    "jupyter": {
     "outputs_hidden": false,
     "source_hidden": false
    },
    "nteract": {
     "transient": {
      "deleting": false
     }
    }
   },
   "outputs": [],
   "source": [
    "evaluate_results(result)"
   ]
  }
 ],
 "metadata": {
  "kernel_info": {
   "name": "python3"
  },
  "kernelspec": {
   "display_name": "Python 3 [Q#]",
   "language": "python",
   "name": "python3_qsharp_b54crn"
  },
  "language_info": {
   "codemirror_mode": {
    "name": "ipython",
    "version": 3
   },
   "file_extension": ".py",
   "mimetype": "text/x-python",
   "name": "python",
   "nbconvert_exporter": "python",
   "pygments_lexer": "ipython3",
   "version": "3.9.10"
  },
  "nteract": {
   "version": "nteract-front-end@1.0.0"
  }
 },
 "nbformat": 4,
 "nbformat_minor": 4
}
