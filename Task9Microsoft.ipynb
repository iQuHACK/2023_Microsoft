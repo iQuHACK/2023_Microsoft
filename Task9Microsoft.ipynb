{
  "cells": [
    {
      "cell_type": "markdown",
      "source": [
        "# MIT iQuHack Microsoft Challenge: Optimizing Quantum Oracles, Task 9\n",
        "\n",
        "To work on this task,\n",
        "1. Use the notebook for this task. Each of the notebooks in the repository has the code of the corresponding task.\n",
        "2. Update your team name and Slack ID variables in the next code cell (you can use different Slack IDs for different tasks if different team members work on them, but make sure to use the same team name throughout the Hackathon). Do not change the task variable!\n",
        "3. Work on your task in the cell that contains operation `Task9`! Your goal is to rewrite the code so that it maintains its correctness, but requires as few resources as possible. See `evaluate_results` function for details on how your absolute score for the task is calculated.\n",
        "4. Submit your task using qBraid. Use the Share Notebook feature on qBraid (See File > Share Notebook) and enter the email rickyyoung@qbraid.com.   Once you click submit, if the share notebook feature works correctly, it should show that you receive no errors and the email you entered will disappear. "
      ],
      "metadata": {
        "nteract": {
          "transient": {
            "deleting": false
          }
        }
      }
    },
    {
      "cell_type": "markdown",
      "source": [
        "Log in to Azure (once per session, don't need to do it if running from Azure workspace)"
      ],
      "metadata": {
        "nteract": {
          "transient": {
            "deleting": false
          }
        }
      }
    },
    {
      "cell_type": "code",
      "source": [
        "!az login"
      ],
      "outputs": [],
      "execution_count": null,
      "metadata": {
        "collapsed": false,
        "jupyter": {
          "outputs_hidden": false,
          "source_hidden": false
        },
        "nteract": {
          "transient": {
            "deleting": false
          }
        }
      }
    },
    {
      "cell_type": "markdown",
      "source": [
        "## Step 1. Write the code"
      ],
      "metadata": {
        "nteract": {
          "transient": {
            "deleting": false
          }
        }
      }
    },
    {
      "cell_type": "code",
      "source": [
        "# Run this code cell to import the modules required to work with Q# and Azure\n",
        "import qsharp\n",
        "from qsharp import azure"
      ],
      "outputs": [],
      "execution_count": null,
      "metadata": {
        "collapsed": false,
        "jupyter": {
          "outputs_hidden": false,
          "source_hidden": false
        },
        "nteract": {
          "transient": {
            "deleting": false
          }
        }
      }
    },
    {
      "cell_type": "code",
      "source": [
        "teamname=\"BickyMen\"  # Update this field with your team name\n",
        "task=[\"task2\"]\n",
        "slack_id=\"U04L3QWCW8K\"           # Update this field with Slack ID of the person who worked on this task as the troubleshooting contact"
      ],
      "outputs": [],
      "execution_count": null,
      "metadata": {
        "collapsed": false,
        "jupyter": {
          "outputs_hidden": false,
          "source_hidden": false
        },
        "nteract": {
          "transient": {
            "deleting": false
          }
        }
      }
    },
    {
      "cell_type": "code",
      "source": [
        "# You don't need to run this cell, it defines Q# operations as Python types to keep IntelliSense happy\n",
        "Task9_DumpMachineWrapper : qsharp.QSharpCallable = None\n",
        "Task9_ResourceEstimationWrapper : qsharp.QSharpCallable = None"
      ],
      "outputs": [],
      "execution_count": null,
      "metadata": {
        "collapsed": false,
        "jupyter": {
          "outputs_hidden": false,
          "source_hidden": false
        },
        "nteract": {
          "transient": {
            "deleting": false
          }
        }
      }
    },
    {
      "cell_type": "markdown",
      "source": [
        "**The complete code for Task 9 should be in this cell.**   \n",
        "This cell can include additional open statements and helper operations and functions if your solution needs them.  \n",
        "If you define helper operations in other cells, they will not be picked up by the grader!"
      ],
      "metadata": {
        "nteract": {
          "transient": {
            "deleting": false
          }
        }
      }
    },
    {
      "cell_type": "code",
      "source": [
        "%%qsharp\n",
        "open Microsoft.Quantum.Canon;\n",
        "open Microsoft.Quantum.Diagnostics;\n",
        "\n",
        "// Task 9. \n",
        "// (input will contain 8 qubits)\n",
        "operation Task9(input : Qubit[], target : Qubit) : Unit is Adj {\n",
        "    for i in [31,46,61,76,91,106,121,136,151,166,181,196,211,226,241] {\n",
        "        ControlledOnInt(i, X)(input, target);\n",
        "    }\n",
        "}"
      ],
      "outputs": [],
      "execution_count": null,
      "metadata": {
        "collapsed": false,
        "jupyter": {
          "outputs_hidden": false,
          "source_hidden": false
        },
        "microsoft": {
          "language": "qsharp"
        },
        "nteract": {
          "transient": {
            "deleting": false
          }
        }
      }
    },
    {
      "cell_type": "code",
      "source": [
        "%%qsharp\n",
        "// Wrapper operation that allows you to observe the effects of the marking oracle by running it on a simulator.\n",
        "operation Task9_DumpMachineWrapper() : Unit {\n",
        "    let N = 8;\n",
        "    use (input, target) = (Qubit[N], Qubit());\n",
        "    // Prepare an equal superposition of all input states in the input register.\n",
        "    ApplyToEach(H, input);\n",
        "    // Apply the oracle.\n",
        "    Task9(input, target);\n",
        "    // Print the state of the system after the oracle application.\n",
        "    DumpMachine();\n",
        "    ResetAll(input + [target]);\n",
        "}\n",
        "\n",
        "// Wrapper operation that allows to run resource estimation for the task.\n",
        "// This operation only allocates the qubits and applies the oracle once, not using any additional gates or measurements.\n",
        "operation Task9_ResourceEstimationWrapper() : Unit {\n",
        "    let N = 8;\n",
        "    use (input, target) = (Qubit[N], Qubit());\n",
        "    Task9(input, target);\n",
        "}"
      ],
      "outputs": [],
      "execution_count": null,
      "metadata": {
        "collapsed": false,
        "jupyter": {
          "outputs_hidden": false,
          "source_hidden": false
        },
        "microsoft": {
          "language": "qsharp"
        },
        "nteract": {
          "transient": {
            "deleting": false
          }
        }
      }
    },
    {
      "cell_type": "markdown",
      "source": [
        "## Step 2. Run the code on a simulator to see what it does\n",
        "You can also write your own code to explore the effects of the oracle (for example, applying it to different basis states and measuring the results)."
      ],
      "metadata": {
        "nteract": {
          "transient": {
            "deleting": false
          }
        }
      }
    },
    {
      "cell_type": "code",
      "source": [
        "# Note that in the output of this cell the target qubit corresponds to the rightmost bit\n",
        "qsharp.config[\"dump.basisStateLabelingConvention\"]=\"Bitstring\"\n",
        "qsharp.config[\"dump.phaseDisplayStyle\"]=\"None\"\n",
        "# Uncomment the following line if you want to see only the entries with non-zero amplitudes\n",
        "qsharp.config[\"dump.truncateSmallAmplitudes\"]=True\n",
        "Task9_DumpMachineWrapper.simulate()"
      ],
      "outputs": [],
      "execution_count": null,
      "metadata": {
        "collapsed": false,
        "jupyter": {
          "outputs_hidden": false,
          "source_hidden": false
        },
        "nteract": {
          "transient": {
            "deleting": false
          }
        }
      }
    },
    {
      "cell_type": "markdown",
      "source": [
        "## Step 3. Evaluate the code using resource estimation"
      ],
      "metadata": {
        "nteract": {
          "transient": {
            "deleting": false
          }
        }
      }
    },
    {
      "cell_type": "code",
      "source": [
        "# If you're using this notebook in Azure Quantum hosted notebooks, remove the credential=\"CLI\" parameter!\n",
        "# If you're using this notebook in qBraid, keep it\n",
        "qsharp.azure.connect(\n",
        "    resourceId=\"/subscriptions/5b596559-3fcb-412c-a437-e13b82fd7b73/resourceGroups/AzureQuantum/providers/Microsoft.Quantum/Workspaces/MITIQuHack\",\n",
        "    location=\"eastus\",)"
      ],
      "outputs": [],
      "execution_count": null,
      "metadata": {
        "collapsed": false,
        "jupyter": {
          "outputs_hidden": false,
          "source_hidden": false
        },
        "nteract": {
          "transient": {
            "deleting": false
          }
        }
      }
    },
    {
      "cell_type": "code",
      "source": [
        "qsharp.azure.target(\"microsoft.estimator\")"
      ],
      "outputs": [],
      "execution_count": null,
      "metadata": {
        "collapsed": false,
        "jupyter": {
          "outputs_hidden": false,
          "source_hidden": false
        },
        "nteract": {
          "transient": {
            "deleting": false
          }
        }
      }
    },
    {
      "cell_type": "code",
      "source": [
        "# Update job name to a more descriptive string to make it easier to find it in Job Management tab later\n",
        "result = qsharp.azure.execute(Task9_ResourceEstimationWrapper, jobName=\"RE for the task 9\")"
      ],
      "outputs": [],
      "execution_count": null,
      "metadata": {
        "collapsed": false,
        "jupyter": {
          "outputs_hidden": false,
          "source_hidden": false
        },
        "nteract": {
          "transient": {
            "deleting": false
          }
        }
      }
    },
    {
      "cell_type": "code",
      "source": [
        "# If you need to pull up the results of an old job, use its job ID with qsharp.azure.output command\n",
        "# result = qsharp.azure.output(\"...\")\n",
        "result"
      ],
      "outputs": [],
      "execution_count": null,
      "metadata": {
        "collapsed": false,
        "jupyter": {
          "outputs_hidden": false,
          "source_hidden": false
        },
        "nteract": {
          "transient": {
            "deleting": false
          }
        }
      }
    },
    {
      "cell_type": "code",
      "source": [
        "# The function that extracts the relevant resource information from the resource estimation job results and produces your absolute score.\n",
        "def evaluate_results(res) : \n",
        "    width = res['physicalCounts']['breakdown']['algorithmicLogicalQubits']\n",
        "    depth = res['physicalCounts']['breakdown']['algorithmicLogicalDepth']\n",
        "    print(f\"Logical algorithmic qubits = {width}\")\n",
        "    print(f\"Algorithmic depth = {depth}\")\n",
        "    print(f\"Score = {width * depth}\")\n",
        "    return width * depth\n"
      ],
      "outputs": [],
      "execution_count": null,
      "metadata": {
        "collapsed": false,
        "jupyter": {
          "outputs_hidden": false,
          "source_hidden": false
        },
        "nteract": {
          "transient": {
            "deleting": false
          }
        }
      }
    },
    {
      "cell_type": "code",
      "source": [
        "evaluate_results(result)"
      ],
      "outputs": [],
      "execution_count": null,
      "metadata": {
        "collapsed": false,
        "jupyter": {
          "outputs_hidden": false,
          "source_hidden": false
        },
        "nteract": {
          "transient": {
            "deleting": false
          }
        }
      }
    }
  ],
  "metadata": {
    "kernel_info": {
      "name": "python3"
    },
    "kernelspec": {
      "name": "python3",
      "language": "python",
      "display_name": "Python 3 (ipykernel)"
    },
    "language_info": {
      "name": "python",
      "version": "3.9.15",
      "mimetype": "text/x-python",
      "codemirror_mode": {
        "name": "ipython",
        "version": 3
      },
      "pygments_lexer": "ipython3",
      "nbconvert_exporter": "python",
      "file_extension": ".py"
    },
    "nteract": {
      "version": "nteract-front-end@1.0.0"
    }
  },
  "nbformat": 4,
  "nbformat_minor": 4
}